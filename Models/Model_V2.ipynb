{
 "cells": [
  {
   "cell_type": "markdown",
   "id": "4f87cce3",
   "metadata": {},
   "source": [
    "# Define Functions\n",
    "This section defines the functions used for calculating portfolio volatility, expected return, \n",
    "goal achievement probability, and the objective (failure probability) to minimize."
   ]
  },
  {
   "cell_type": "code",
   "execution_count": null,
   "id": "1a54e7cb",
   "metadata": {
    "lines_to_next_cell": 1
   },
   "outputs": [],
   "source": [
    "import numpy as np\n",
    "from scipy.stats import norm\n",
    "\n",
    "def sd_f(weight_vector, covar_table):\n",
    "    covar_vector = np.zeros(len(weight_vector))\n",
    "    for z in range(len(weight_vector)):\n",
    "        covar_vector[z] = np.sum(weight_vector * covar_table[:, z])\n",
    "    return np.sqrt(np.sum(weight_vector * covar_vector))"
   ]
  },
  {
   "cell_type": "code",
   "execution_count": null,
   "id": "2bcd6edf",
   "metadata": {
    "lines_to_next_cell": 1
   },
   "outputs": [],
   "source": [
    "def mean_f(weight_vector, return_vector):\n",
    "    return np.sum(weight_vector * return_vector)"
   ]
  },
  {
   "cell_type": "code",
   "execution_count": null,
   "id": "e08f49c5",
   "metadata": {
    "lines_to_next_cell": 1
   },
   "outputs": [],
   "source": [
    "def phi_f(goal_vector, goal_allocation, pool, mean, sd):\n",
    "    # goal_vector is [value ratio, funding requirement, time horizon]\n",
    "    required_return = (goal_vector[1] / (pool * goal_allocation))**(1 / goal_vector[2]) - 1\n",
    "    if goal_allocation * pool >= goal_vector[1]:\n",
    "        return 1\n",
    "    else:\n",
    "        return 1 - norm.cdf(required_return, loc=mean, scale=sd)"
   ]
  },
  {
   "cell_type": "code",
   "execution_count": null,
   "id": "11f72fba",
   "metadata": {
    "lines_to_next_cell": 1
   },
   "outputs": [],
   "source": [
    "def optim_function(weights):\n",
    "    # Uses the current global variables: goal_vector, allocation, pool, return_vector, covar_table\n",
    "    return 1 - phi_f(\n",
    "        goal_vector,\n",
    "        allocation,\n",
    "        pool,\n",
    "        mean_f(weights, return_vector),\n",
    "        sd_f(weights, covar_table)\n",
    "    )"
   ]
  },
  {
   "cell_type": "code",
   "execution_count": null,
   "id": "049fab83",
   "metadata": {
    "lines_to_next_cell": 1
   },
   "outputs": [],
   "source": [
    "def constraint_function(weights):\n",
    "    # For SciPy equality constraints, we require constraint_function(weights) == 0.\n",
    "    return np.sum(weights) - 1"
   ]
  },
  {
   "cell_type": "code",
   "execution_count": null,
   "id": "1732ef29",
   "metadata": {
    "lines_to_next_cell": 1
   },
   "outputs": [],
   "source": [
    "def mvu_f(weights):\n",
    "    # mvu_f is defined for mean-variance optimization (not used below).\n",
    "    return -(mean_f(weights, return_vector) - 0.5 * gamma * sd_f(weights, covariances)**2)"
   ]
  },
  {
   "cell_type": "code",
   "execution_count": null,
   "id": "b3b60c77",
   "metadata": {
    "lines_to_next_cell": 1
   },
   "outputs": [],
   "source": [
    "def r_req_f(goal_vector, goal_allocation, pool):\n",
    "    return (goal_vector[1] / (goal_allocation * pool))**(1 / goal_vector[2]) - 1"
   ]
  },
  {
   "cell_type": "markdown",
   "id": "bb5b3f38",
   "metadata": {},
   "source": [
    "# Load & Parse Data"
   ]
  },
  {
   "cell_type": "code",
   "execution_count": null,
   "id": "40b4a5cd",
   "metadata": {},
   "outputs": [],
   "source": [
    "import pandas as pd\n",
    "\n",
    "# Set number of Monte Carlo trials (matching R's 10^5)\n",
    "n_trials = 10**5\n",
    "\n",
    "# Load data from CSV files (adjust the paths as needed)\n",
    "goal_data_raw = pd.read_csv(r\"C:\\Users\\admin\\Desktop\\Thesis\\AEF_msc_thesis_GBI\\Example Goal Details.csv\")\n",
    "capital_market_expectations_raw = pd.read_csv(r\"C:\\Users\\admin\\Desktop\\Thesis\\AEF_msc_thesis_GBI\\Capital Market Expectations.csv\")\n",
    "correlations_raw = pd.read_csv(r\"C:\\Users\\admin\\Desktop\\Thesis\\AEF_msc_thesis_GBI\\Correlations - Kitchen Sink.csv\")\n",
    "\n",
    "# Record number of potential investments and goals\n",
    "num_assets = len(capital_market_expectations_raw.iloc[:, 1])\n",
    "num_goals = goal_data_raw.shape[1] - 1\n",
    "\n",
    "# Create vector of expected returns\n",
    "return_vector = capital_market_expectations_raw.iloc[:, 1].to_numpy()\n",
    "\n",
    "# Get the correlations as a numeric DataFrame\n",
    "correlations = correlations_raw.iloc[:15, 1:16].astype(float)\n",
    "\n",
    "# Build the covariance matrix\n",
    "covariances = np.zeros((num_assets, num_assets))\n",
    "for i in range(num_assets):\n",
    "    for j in range(num_assets):\n",
    "        covariances[j, i] = (\n",
    "            capital_market_expectations_raw.iloc[i, 2] *\n",
    "            capital_market_expectations_raw.iloc[j, 2] *\n",
    "            correlations.iloc[j, i]\n",
    "        )"
   ]
  },
  {
   "cell_type": "markdown",
   "id": "3e95f026",
   "metadata": {},
   "source": [
    "# Parse Goal Data\n",
    "Each goal vector is of the form: [value ratio, funding requirement, time horizon]"
   ]
  },
  {
   "cell_type": "code",
   "execution_count": null,
   "id": "8e47d4fe",
   "metadata": {},
   "outputs": [],
   "source": [
    "goal_A = [\n",
    "    goal_data_raw.iloc[0, 1],\n",
    "    goal_data_raw.iloc[1, 1],\n",
    "    goal_data_raw.iloc[2, 1]\n",
    "]\n",
    "goal_B = [\n",
    "    goal_data_raw.iloc[0, 2],\n",
    "    goal_data_raw.iloc[1, 2],\n",
    "    goal_data_raw.iloc[2, 2]\n",
    "]\n",
    "goal_C = [\n",
    "    goal_data_raw.iloc[0, 3],\n",
    "    goal_data_raw.iloc[1, 3],\n",
    "    goal_data_raw.iloc[2, 3]\n",
    "]\n",
    "goal_D = [\n",
    "    goal_data_raw.iloc[0, 4],\n",
    "    goal_data_raw.iloc[1, 4],\n",
    "    goal_data_raw.iloc[2, 4]\n",
    "]\n",
    "\n",
    "# Total pool of wealth\n",
    "pool = 4654000"
   ]
  },
  {
   "cell_type": "markdown",
   "id": "1a7171bf",
   "metadata": {},
   "source": [
    "# Step 1: Optimal Within-Goal Allocation\n",
    "Enumerate possible across-goal allocations (from 0.01 to 1)\n",
    "and, for each goal, optimize the subportfolio weights."
   ]
  },
  {
   "cell_type": "code",
   "execution_count": null,
   "id": "a7b4ca0d",
   "metadata": {},
   "outputs": [],
   "source": [
    "from scipy.optimize import minimize\n",
    "\n",
    "goal_allocation = np.arange(0.01, 1.01, 0.01)\n",
    "\n",
    "# Starting weights (random initialization normalized to sum to 1)\n",
    "starting_weights = np.random.uniform(0, 1, num_assets)\n",
    "starting_weights /= np.sum(starting_weights)\n",
    "\n",
    "# Initialize matrices to store the optimal weights for each goal\n",
    "optimal_weights_A = np.zeros((len(goal_allocation), num_assets))\n",
    "optimal_weights_B = np.zeros((len(goal_allocation), num_assets))\n",
    "optimal_weights_C = np.zeros((len(goal_allocation), num_assets))\n",
    "optimal_weights_D = np.zeros((len(goal_allocation), num_assets))"
   ]
  },
  {
   "cell_type": "code",
   "execution_count": null,
   "id": "6a6e88be",
   "metadata": {},
   "outputs": [],
   "source": [
    "# Optimization loop for each allocation level\n",
    "for i, alloc in enumerate(goal_allocation):\n",
    "    allocation = alloc      # Global variable used in optim_function\n",
    "    covar_table = covariances\n",
    "    \n",
    "    # Goal A Optimization\n",
    "    goal_vector = goal_A   # Global variable used in optim_function\n",
    "    if goal_A[1] <= pool * allocation:\n",
    "        optimal_weights_A[i, :] = [0]*(num_assets - 1) + [1]\n",
    "    else:\n",
    "        result = minimize(\n",
    "            optim_function,\n",
    "            starting_weights,\n",
    "            constraints=[{'type': 'eq', 'fun': constraint_function}],\n",
    "            bounds=[(0, 1)] * num_assets,\n",
    "            method='SLSQP'\n",
    "        )\n",
    "        optimal_weights_A[i, :] = result.x\n",
    "\n",
    "    # Goal B Optimization\n",
    "    goal_vector = goal_B\n",
    "    if goal_B[1] <= pool * allocation:\n",
    "        optimal_weights_B[i, :] = [0]*(num_assets - 1) + [1]\n",
    "    else:\n",
    "        result = minimize(\n",
    "            optim_function,\n",
    "            starting_weights,\n",
    "            constraints=[{'type': 'eq', 'fun': constraint_function}],\n",
    "            bounds=[(0, 1)] * num_assets,\n",
    "            method='SLSQP'\n",
    "        )\n",
    "        optimal_weights_B[i, :] = result.x\n",
    "\n",
    "    # Goal C Optimization\n",
    "    goal_vector = goal_C\n",
    "    if goal_C[1] <= pool * allocation:\n",
    "        optimal_weights_C[i, :] = [0]*(num_assets - 1) + [1]\n",
    "    else:\n",
    "        result = minimize(\n",
    "            optim_function,\n",
    "            starting_weights,\n",
    "            constraints=[{'type': 'eq', 'fun': constraint_function}],\n",
    "            bounds=[(0, 1)] * num_assets,\n",
    "            method='SLSQP'\n",
    "        )\n",
    "        optimal_weights_C[i, :] = result.x\n",
    "\n",
    "    # Goal D Optimization\n",
    "    goal_vector = goal_D\n",
    "    if goal_D[1] <= pool * allocation:\n",
    "        optimal_weights_D[i, :] = [0]*(num_assets - 1) + [1]\n",
    "    else:\n",
    "        result = minimize(\n",
    "            optim_function,\n",
    "            starting_weights,\n",
    "            constraints=[{'type': 'eq', 'fun': constraint_function}],\n",
    "            bounds=[(0, 1)] * num_assets,\n",
    "            method='SLSQP'\n",
    "        )\n",
    "        optimal_weights_D[i, :] = result.x"
   ]
  },
  {
   "cell_type": "code",
   "execution_count": null,
   "id": "04835116",
   "metadata": {},
   "outputs": [],
   "source": [
    "# Calculate the best probability (phi) for each allocation level for every goal\n",
    "phi_A = np.zeros(len(goal_allocation))\n",
    "phi_B = np.zeros(len(goal_allocation))\n",
    "phi_C = np.zeros(len(goal_allocation))\n",
    "phi_D = np.zeros(len(goal_allocation))\n",
    "\n",
    "for i, alloc in enumerate(goal_allocation):\n",
    "    phi_A[i] = phi_f(goal_A, alloc, pool,\n",
    "                     mean_f(optimal_weights_A[i, :], return_vector),\n",
    "                     sd_f(optimal_weights_A[i, :], covariances))\n",
    "    phi_B[i] = phi_f(goal_B, alloc, pool,\n",
    "                     mean_f(optimal_weights_B[i, :], return_vector),\n",
    "                     sd_f(optimal_weights_B[i, :], covariances))\n",
    "    phi_C[i] = phi_f(goal_C, alloc, pool,\n",
    "                     mean_f(optimal_weights_C[i, :], return_vector),\n",
    "                     sd_f(optimal_weights_C[i, :], covariances))\n",
    "    phi_D[i] = phi_f(goal_D, alloc, pool,\n",
    "                     mean_f(optimal_weights_D[i, :], return_vector),\n",
    "                     sd_f(optimal_weights_D[i, :], covariances))"
   ]
  },
  {
   "cell_type": "markdown",
   "id": "e71bfdf7",
   "metadata": {},
   "source": [
    "# Step 2: Optimal Across-Goal Allocation\n",
    "Simulate goal weights and compute utility for each trial."
   ]
  },
  {
   "cell_type": "code",
   "execution_count": null,
   "id": "f59b6632",
   "metadata": {},
   "outputs": [],
   "source": [
    "# Simulate goal weights: each row is a simulated allocation (in percentages)\n",
    "sim_goal_weights = np.zeros((n_trials, num_goals))\n",
    "for i in range(n_trials):\n",
    "    rand_vector = np.random.uniform(0, 1, num_goals)\n",
    "    normalizer = np.sum(rand_vector)\n",
    "    # Round percentages and ensure a minimum of 1\n",
    "    sim_goal_weights[i, :] = np.where(\n",
    "        np.round((rand_vector / normalizer) * 100, 0) < 1,\n",
    "        1,\n",
    "        np.round((rand_vector / normalizer) * 100)\n",
    "    )\n",
    "sim_goal_weights = sim_goal_weights.astype(int)\n",
    "\n",
    "# Calculate utility for each simulated portfolio.\n",
    "# Note: subtract 1 from simulated weights for 0-indexing.\n",
    "utility = (\n",
    "    goal_A[0] * phi_A[sim_goal_weights[:, 0] - 1] +\n",
    "    goal_A[0] * goal_B[0] * phi_B[sim_goal_weights[:, 1] - 1] +\n",
    "    goal_A[0] * goal_B[0] * goal_C[0] * phi_C[sim_goal_weights[:, 2] - 1] +\n",
    "    goal_A[0] * goal_B[0] * goal_C[0] * goal_D[0] * phi_D[sim_goal_weights[:, 3] - 1]\n",
    ")\n",
    "\n",
    "# Find the index of the portfolio with the highest utility\n",
    "index = np.argmax(utility)\n",
    "optimal_goal_weights = sim_goal_weights[index, :]"
   ]
  },
  {
   "cell_type": "markdown",
   "id": "cc196151",
   "metadata": {},
   "source": [
    "# Step 3: Optimal Subportfolios & Aggregate Portfolio\n",
    "Retrieve the optimal subportfolio allocations and compute the aggregate portfolio."
   ]
  },
  {
   "cell_type": "code",
   "execution_count": null,
   "id": "511614df",
   "metadata": {},
   "outputs": [],
   "source": [
    "# Retrieve optimal subportfolio allocations\n",
    "optimal_subportfolios = np.zeros((num_goals, num_assets))\n",
    "goals = [\"A\", \"B\", \"C\", \"D\"]\n",
    "\n",
    "# For each goal, use the simulated percentage to select the corresponding row \n",
    "# from the optimal weights matrix (adjust for zero-indexing)\n",
    "for i in range(num_goals):\n",
    "    optimal_subportfolios[i, :] = eval(f\"optimal_weights_{goals[i]}\")[optimal_goal_weights[i] - 1, :]\n",
    "\n",
    "# Compute the optimal aggregate investment portfolio.\n",
    "# Normalize the simulated goal weights so they sum to 1, then compute the dot product.\n",
    "optimal_goal_weights_norm = optimal_goal_weights / np.sum(optimal_goal_weights)\n",
    "optimal_aggregate_portfolio = optimal_goal_weights_norm @ optimal_subportfolios"
   ]
  },
  {
   "cell_type": "markdown",
   "id": "e050a5e6",
   "metadata": {},
   "source": [
    "# Visualize Results\n",
    "Plot the Goal A subportfolio allocation as a function of the across-goal allocation."
   ]
  },
  {
   "cell_type": "code",
   "execution_count": null,
   "id": "c683e204",
   "metadata": {},
   "outputs": [],
   "source": [
    "import matplotlib.pyplot as plt\n",
    "\n",
    "# Asset names from the first column of the capital market expectations\n",
    "asset_names = capital_market_expectations_raw.iloc[:, 0].astype(str).tolist()\n",
    "\n",
    "# Use stackplot to display the Goal A subportfolio allocation (stacked areas) versus goal allocation (in %)\n",
    "plt.figure(figsize=(10, 6))\n",
    "plt.stackplot(goal_allocation * 100, optimal_weights_A.T, labels=asset_names, alpha=0.7)\n",
    "plt.xlabel(\"Goal Allocation (%)\", fontsize=14, fontweight='bold')\n",
    "plt.ylabel(\"Investment Weight\", fontsize=14, fontweight='bold')\n",
    "plt.title(\"Goal A Subportfolio Allocation\", fontsize=16, fontweight='bold')\n",
    "plt.legend(title=\"Asset\", fontsize=12, title_fontsize=14)\n",
    "plt.grid(alpha=0.3)\n",
    "plt.show()"
   ]
  },
  {
   "cell_type": "markdown",
   "id": "13868498",
   "metadata": {},
   "source": [
    "# Print Results"
   ]
  },
  {
   "cell_type": "code",
   "execution_count": null,
   "id": "55d803d7",
   "metadata": {
    "lines_to_next_cell": 3
   },
   "outputs": [],
   "source": [
    "print(\"Optimal Across-Goal Allocation:\")\n",
    "print(optimal_goal_weights)\n",
    "\n",
    "print(\"\\nOptimal Aggregate Investment Allocation:\")\n",
    "print(optimal_aggregate_portfolio)"
   ]
  }
 ],
 "metadata": {
  "jupytext": {
   "cell_metadata_filter": "-all",
   "main_language": "python",
   "notebook_metadata_filter": "-all"
  }
 },
 "nbformat": 4,
 "nbformat_minor": 5
}
