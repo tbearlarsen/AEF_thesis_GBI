{
 "cells": [
  {
   "cell_type": "code",
   "execution_count": null,
   "id": "65fa5956",
   "metadata": {},
   "outputs": [],
   "source": [
    "!pip install numpy pandas scipy matplotlib"
   ]
  },
  {
   "cell_type": "code",
   "execution_count": null,
   "id": "b0977650",
   "metadata": {
    "lines_to_next_cell": 1
   },
   "outputs": [],
   "source": [
    "import numpy as np\n",
    "from scipy.stats import norm\n",
    "import pandas as pd\n",
    "from scipy.optimize import minimize\n",
    "import matplotlib.pyplot as plt"
   ]
  },
  {
   "cell_type": "markdown",
   "id": "eda0e78d",
   "metadata": {},
   "source": [
    "# Define Functions\n",
    "This section defines the functions used for calculating portfolio volatility, expected return, \n",
    "goal achievement probability, and the objective (failure probability) to minimize."
   ]
  },
  {
   "cell_type": "code",
   "execution_count": null,
   "id": "579b597c",
   "metadata": {
    "lines_to_next_cell": 1
   },
   "outputs": [],
   "source": [
    "\n",
    "def sd_f(weight_vector, covar_table):\n",
    "    covar_vector = np.zeros(len(weight_vector))\n",
    "    for z in range(len(weight_vector)):\n",
    "        covar_vector[z] = np.sum(weight_vector * covar_table[:, z])\n",
    "    return np.sqrt(np.sum(weight_vector * covar_vector))"
   ]
  },
  {
   "cell_type": "code",
   "execution_count": null,
   "id": "4220d208",
   "metadata": {
    "lines_to_next_cell": 1
   },
   "outputs": [],
   "source": [
    "def mean_f(weight_vector, return_vector):\n",
    "    return np.sum(weight_vector * return_vector)"
   ]
  },
  {
   "cell_type": "code",
   "execution_count": null,
   "id": "7d8fd2e9",
   "metadata": {
    "lines_to_next_cell": 1
   },
   "outputs": [],
   "source": [
    "def phi_f(goal_vector, goal_allocation, pool, mean, sd):\n",
    "    # goal_vector is [value ratio, funding requirement, time horizon]\n",
    "    required_return = (goal_vector[1] / (pool * goal_allocation))**(1 / goal_vector[2]) - 1\n",
    "    if goal_allocation * pool >= goal_vector[1]:\n",
    "        return 1\n",
    "    else:\n",
    "        return 1 - norm.cdf(required_return, loc=mean, scale=sd)"
   ]
  },
  {
   "cell_type": "code",
   "execution_count": null,
   "id": "a9f2c361",
   "metadata": {
    "lines_to_next_cell": 1
   },
   "outputs": [],
   "source": [
    "def optim_function(weights):\n",
    "    # Uses the current global variables: goal_vector, allocation, pool, return_vector, covar_table\n",
    "    return 1 - phi_f(\n",
    "        goal_vector,\n",
    "        allocation,\n",
    "        pool,\n",
    "        mean_f(weights, return_vector),\n",
    "        sd_f(weights, covar_table)\n",
    "    )"
   ]
  },
  {
   "cell_type": "code",
   "execution_count": null,
   "id": "2d8026a1",
   "metadata": {
    "lines_to_next_cell": 1
   },
   "outputs": [],
   "source": [
    "def constraint_function(weights):\n",
    "    # For SciPy equality constraints, we require constraint_function(weights) == 0.\n",
    "    return np.sum(weights) - 1"
   ]
  },
  {
   "cell_type": "code",
   "execution_count": null,
   "id": "c0d90ba8",
   "metadata": {
    "lines_to_next_cell": 1
   },
   "outputs": [],
   "source": [
    "def mvu_f(weights):\n",
    "    # mvu_f is defined for mean-variance optimization (not used below).\n",
    "    return -(mean_f(weights, return_vector) - 0.5 * gamma * sd_f(weights, covariances)**2)"
   ]
  },
  {
   "cell_type": "code",
   "execution_count": null,
   "id": "45b79a61",
   "metadata": {
    "lines_to_next_cell": 1
   },
   "outputs": [],
   "source": [
    "def r_req_f(goal_vector, goal_allocation, pool):\n",
    "    return (goal_vector[1] / (goal_allocation * pool))**(1 / goal_vector[2]) - 1"
   ]
  },
  {
   "cell_type": "markdown",
   "id": "a15cf332",
   "metadata": {},
   "source": [
    "# Load & Parse Data"
   ]
  },
  {
   "cell_type": "code",
   "execution_count": null,
   "id": "37aac5b2",
   "metadata": {},
   "outputs": [],
   "source": [
    "\n",
    "# Set number of Monte Carlo trials (matching R's 10^5)\n",
    "n_trials = 10**5\n",
    "\n",
    "# Load data from CSV files (adjust the paths as needed)\n",
    "goal_data_raw = pd.read_csv(r\"C:\\Users\\admin\\Desktop\\Thesis\\AEF_msc_thesis_GBI\\Example Goal Details.csv\")\n",
    "capital_market_expectations_raw = pd.read_csv(r\"C:\\Users\\admin\\Desktop\\Thesis\\AEF_msc_thesis_GBI\\Franklin\\Goals-Based Utility Practitioners Guide\\Datasets\\Capital Market Expectations_M.csv\")\n",
    "correlations_raw = pd.read_csv(r\"C:\\Users\\admin\\Desktop\\Thesis\\AEF_msc_thesis_GBI\\Franklin\\Goals-Based Utility Practitioners Guide\\Datasets\\Correlations_m.csv\")\n",
    "\n",
    "# Record number of potential investments and goals\n",
    "num_assets = len(capital_market_expectations_raw.iloc[:, 1])\n",
    "num_goals = goal_data_raw.shape[1] - 1\n",
    "\n",
    "# Create vector of expected returns\n",
    "return_vector = capital_market_expectations_raw.iloc[:, 1].to_numpy()\n",
    "\n",
    "# Get the correlations as a numeric DataFrame\n",
    "correlations = correlations_raw.iloc[:8, 1:9].astype(float)\n",
    "\n",
    "# Build the covariance matrix\n",
    "covariances = np.zeros((num_assets, num_assets))\n",
    "for i in range(num_assets):\n",
    "    for j in range(num_assets):\n",
    "        covariances[i, j] = (\n",
    "            capital_market_expectations_raw.iloc[i, 2] *\n",
    "            capital_market_expectations_raw.iloc[j, 2] *\n",
    "            correlations.iloc[i, j]\n",
    "        )"
   ]
  },
  {
   "cell_type": "markdown",
   "id": "14ed27b3",
   "metadata": {},
   "source": [
    "# Parse Goal Data\n",
    "Each goal vector is of the form: [value ratio, funding requirement, time horizon]"
   ]
  },
  {
   "cell_type": "code",
   "execution_count": null,
   "id": "d2b01518",
   "metadata": {},
   "outputs": [],
   "source": [
    "goal_A = [\n",
    "    goal_data_raw.iloc[0, 1],\n",
    "    goal_data_raw.iloc[1, 1],\n",
    "    goal_data_raw.iloc[2, 1]\n",
    "]\n",
    "goal_B = [\n",
    "    goal_data_raw.iloc[0, 2],\n",
    "    goal_data_raw.iloc[1, 2],\n",
    "    goal_data_raw.iloc[2, 2]\n",
    "]\n",
    "goal_C = [\n",
    "    goal_data_raw.iloc[0, 3],\n",
    "    goal_data_raw.iloc[1, 3],\n",
    "    goal_data_raw.iloc[2, 3]\n",
    "]\n",
    "goal_D = [\n",
    "    goal_data_raw.iloc[0, 4],\n",
    "    goal_data_raw.iloc[1, 4],\n",
    "    goal_data_raw.iloc[2, 4]\n",
    "]\n",
    "\n",
    "# Total pool of wealth\n",
    "pool = 4654000"
   ]
  },
  {
   "cell_type": "markdown",
   "id": "466bd414",
   "metadata": {},
   "source": [
    "# Step 1: Optimal Within-Goal Allocation\n",
    "Enumerate possible across-goal allocations (from 0.01 to 1)\n",
    "and, for each goal, optimize the subportfolio weights."
   ]
  },
  {
   "cell_type": "code",
   "execution_count": null,
   "id": "602e1215",
   "metadata": {},
   "outputs": [],
   "source": [
    "\n",
    "goal_allocation = np.arange(0.01, 1.01, 0.01)\n",
    "\n",
    "# Starting weights (random initialization normalized to sum to 1)\n",
    "starting_weights = np.random.uniform(0, 1, num_assets)\n",
    "starting_weights /= np.sum(starting_weights)\n",
    "\n",
    "# Initialize matrices to store the optimal weights for each goal\n",
    "optimal_weights_A = np.zeros((len(goal_allocation), num_assets))\n",
    "optimal_weights_B = np.zeros((len(goal_allocation), num_assets))\n",
    "optimal_weights_C = np.zeros((len(goal_allocation), num_assets))\n",
    "optimal_weights_D = np.zeros((len(goal_allocation), num_assets))"
   ]
  },
  {
   "cell_type": "code",
   "execution_count": null,
   "id": "b6364b7f",
   "metadata": {},
   "outputs": [],
   "source": [
    "goal_allocation = np.arange(0.01, 1.01, 0.01)\n",
    "\n",
    "# Starting weights (random initialization normalized to sum to 1)\n",
    "starting_weights = np.random.uniform(0, 1, num_assets)\n",
    "starting_weights /= np.sum(starting_weights)\n",
    "\n",
    "# Initialize matrices to store the optimal weights for each goal\n",
    "optimal_weights_A = np.zeros((len(goal_allocation), num_assets))\n",
    "optimal_weights_B = np.zeros((len(goal_allocation), num_assets))\n",
    "optimal_weights_C = np.zeros((len(goal_allocation), num_assets))\n",
    "optimal_weights_D = np.zeros((len(goal_allocation), num_assets))\n",
    "\n",
    "# Set SLSQP options to be more stringent, mimicking solnp's behavior.\n",
    "slsqp_opts = {\n",
    "    'ftol': 1e-12,     # function tolerance\n",
    "    'eps': 1e-12,      # finite-difference step size for gradient estimation\n",
    "    'maxiter': 10000,  # maximum iterations\n",
    "    'disp': False     # do not display convergence messages\n",
    "}\n",
    "\n",
    "for i, alloc in enumerate(goal_allocation):\n",
    "    allocation = alloc      # Global variable used in optim_function\n",
    "    covar_table = covariances\n",
    "\n",
    "    # Goal A Optimization\n",
    "    goal_vector = goal_A   # Global variable used in optim_function\n",
    "    if goal_A[1] <= pool * allocation:\n",
    "        optimal_weights_A[i, :] = [0]*(num_assets - 1) + [1]\n",
    "    else:\n",
    "        result = minimize(\n",
    "            optim_function,\n",
    "            starting_weights,\n",
    "            constraints=[{'type': 'eq', 'fun': constraint_function}],\n",
    "            bounds=[(0, 1)] * num_assets,\n",
    "            method='SLSQP',\n",
    "            options=slsqp_opts\n",
    "        )\n",
    "        optimal_weights_A[i, :] = result.x\n",
    "\n",
    "    # Goal B Optimization\n",
    "    goal_vector = goal_B\n",
    "    if goal_B[1] <= pool * allocation:\n",
    "        optimal_weights_B[i, :] = [0]*(num_assets - 1) + [1]\n",
    "    else:\n",
    "        result = minimize(\n",
    "            optim_function,\n",
    "            starting_weights,\n",
    "            constraints=[{'type': 'eq', 'fun': constraint_function}],\n",
    "            bounds=[(0, 1)] * num_assets,\n",
    "            method='SLSQP',\n",
    "            options=slsqp_opts\n",
    "        )\n",
    "        optimal_weights_B[i, :] = result.x\n",
    "\n",
    "    # Goal C Optimization\n",
    "    goal_vector = goal_C\n",
    "    if goal_C[1] <= pool * allocation:\n",
    "        optimal_weights_C[i, :] = [0]*(num_assets - 1) + [1]\n",
    "    else:\n",
    "        result = minimize(\n",
    "            optim_function,\n",
    "            starting_weights,\n",
    "            constraints=[{'type': 'eq', 'fun': constraint_function}],\n",
    "            bounds=[(0, 1)] * num_assets,\n",
    "            method='SLSQP',\n",
    "            options=slsqp_opts\n",
    "        )\n",
    "        optimal_weights_C[i, :] = result.x\n",
    "\n",
    "    # Goal D Optimization\n",
    "    goal_vector = goal_D\n",
    "    if goal_D[1] <= pool * allocation:\n",
    "        optimal_weights_D[i, :] = [0]*(num_assets - 1) + [1]\n",
    "    else:\n",
    "        result = minimize(\n",
    "            optim_function,\n",
    "            starting_weights,\n",
    "            constraints=[{'type': 'eq', 'fun': constraint_function}],\n",
    "            bounds=[(0, 1)] * num_assets,\n",
    "            method='SLSQP',\n",
    "            options=slsqp_opts\n",
    "        )\n",
    "        optimal_weights_D[i, :] = result.x"
   ]
  },
  {
   "cell_type": "code",
   "execution_count": null,
   "id": "255ea53b",
   "metadata": {},
   "outputs": [],
   "source": [
    "# Calculate the best probability (phi) for each allocation level for every goal\n",
    "phi_A = np.zeros(len(goal_allocation))\n",
    "phi_B = np.zeros(len(goal_allocation))\n",
    "phi_C = np.zeros(len(goal_allocation))\n",
    "phi_D = np.zeros(len(goal_allocation))\n",
    "\n",
    "for i, alloc in enumerate(goal_allocation):\n",
    "    phi_A[i] = phi_f(goal_A, alloc, pool,\n",
    "                     mean_f(optimal_weights_A[i, :], return_vector),\n",
    "                     sd_f(optimal_weights_A[i, :], covariances))\n",
    "    phi_B[i] = phi_f(goal_B, alloc, pool,\n",
    "                     mean_f(optimal_weights_B[i, :], return_vector),\n",
    "                     sd_f(optimal_weights_B[i, :], covariances))\n",
    "    phi_C[i] = phi_f(goal_C, alloc, pool,\n",
    "                     mean_f(optimal_weights_C[i, :], return_vector),\n",
    "                     sd_f(optimal_weights_C[i, :], covariances))\n",
    "    phi_D[i] = phi_f(goal_D, alloc, pool,\n",
    "                     mean_f(optimal_weights_D[i, :], return_vector),\n",
    "                     sd_f(optimal_weights_D[i, :], covariances))"
   ]
  },
  {
   "cell_type": "markdown",
   "id": "e40bb11f",
   "metadata": {},
   "source": [
    "# Step 2: Optimal Across-Goal Allocation\n",
    "Simulate goal weights and compute utility for each trial."
   ]
  },
  {
   "cell_type": "code",
   "execution_count": null,
   "id": "90a35902",
   "metadata": {},
   "outputs": [],
   "source": [
    "# Simulate goal weights: each row is a simulated allocation (in percentages)\n",
    "sim_goal_weights = np.zeros((n_trials, num_goals), dtype=int)\n",
    "for i in range(n_trials):\n",
    "    rand_vector = np.random.uniform(0, 1, num_goals)\n",
    "    normalizer = np.sum(rand_vector)\n",
    "    # Compute rounded percentages and enforce a minimum of 1\n",
    "    percents = np.round((rand_vector / normalizer) * 100, 0)\n",
    "    sim_goal_weights[i, :] = np.maximum(percents, 1)\n",
    "\n",
    "\n",
    "# Calculate utility for each simulated portfolio.\n",
    "# Note: subtract 1 from simulated weights for 0-indexing.\n",
    "utility = (\n",
    "    goal_A[0] * phi_A[sim_goal_weights[:, 0] - 1] +\n",
    "    goal_A[0] * goal_B[0] * phi_B[sim_goal_weights[:, 1] - 1] +\n",
    "    goal_A[0] * goal_B[0] * goal_C[0] * phi_C[sim_goal_weights[:, 2] - 1] +\n",
    "    goal_A[0] * goal_B[0] * goal_C[0] * goal_D[0] * phi_D[sim_goal_weights[:, 3] - 1]\n",
    ")\n",
    "\n",
    "# Find the index of the portfolio with the highest utility\n",
    "index = np.argmax(utility)\n",
    "optimal_goal_weights = sim_goal_weights[index, :]"
   ]
  },
  {
   "cell_type": "markdown",
   "id": "6c8d97a7",
   "metadata": {},
   "source": [
    "# Step 3: Optimal Subportfolios & Aggregate Portfolio\n",
    "Retrieve the optimal subportfolio allocations and compute the aggregate portfolio."
   ]
  },
  {
   "cell_type": "code",
   "execution_count": null,
   "id": "91529ede",
   "metadata": {
    "lines_to_next_cell": 2
   },
   "outputs": [],
   "source": [
    "# Retrieve optimal subportfolio allocations\n",
    "optimal_subportfolios = np.zeros((num_goals, num_assets))\n",
    "goals = [\"A\", \"B\", \"C\", \"D\"]\n",
    "\n",
    "# For each goal, use the simulated percentage to select the corresponding row \n",
    "# from the optimal weights matrix (adjust for zero-indexing)\n",
    "for i in range(num_goals):\n",
    "    optimal_subportfolios[i, :] = eval(f\"optimal_weights_{goals[i]}\")[optimal_goal_weights[i] - 1, :]\n",
    "\n",
    "# Compute the optimal aggregate investment portfolio.\n",
    "optimal_aggregate_portfolio = (optimal_goal_weights / 100) @ optimal_subportfolios"
   ]
  },
  {
   "cell_type": "markdown",
   "id": "042fe375",
   "metadata": {},
   "source": [
    "# Visualize Results\n",
    "Plot the Goal A subportfolio allocation as a function of the across-goal allocation."
   ]
  },
  {
   "cell_type": "code",
   "execution_count": null,
   "id": "b5a9474d",
   "metadata": {},
   "outputs": [],
   "source": [
    "\n",
    "# Asset names from the first column of the capital market expectations\n",
    "asset_names = capital_market_expectations_raw.iloc[:, 0].astype(str).tolist()\n",
    "\n",
    "# Use stackplot to display the Goal A subportfolio allocation (stacked areas) versus goal allocation (in %)\n",
    "plt.figure(figsize=(10, 6))\n",
    "plt.stackplot(goal_allocation * 100, optimal_weights_A.T, labels=asset_names, alpha=0.7)\n",
    "plt.xlabel(\"Goal Allocation (%)\", fontsize=14, fontweight='bold')\n",
    "plt.ylabel(\"Investment Weight\", fontsize=14, fontweight='bold')\n",
    "plt.title(\"Goal A Subportfolio Allocation\", fontsize=16, fontweight='bold')\n",
    "plt.legend(title=\"Asset\", fontsize=12, title_fontsize=14)\n",
    "plt.grid(alpha=0.3)\n",
    "plt.show()"
   ]
  },
  {
   "cell_type": "code",
   "execution_count": null,
   "id": "6821a88c",
   "metadata": {},
   "outputs": [],
   "source": [
    "# Asset names from the first column of the capital market expectations\n",
    "asset_names = capital_market_expectations_raw.iloc[:, 0].astype(str).tolist()\n",
    "\n",
    "# Use stackplot to display the Goal A subportfolio allocation (stacked areas) versus goal allocation (in %)\n",
    "plt.figure(figsize=(10, 6))\n",
    "plt.stackplot(goal_allocation * 100, optimal_weights_B.T, labels=asset_names, alpha=0.7)\n",
    "plt.xlabel(\"Goal Allocation (%)\", fontsize=14, fontweight='bold')\n",
    "plt.ylabel(\"Investment Weight\", fontsize=14, fontweight='bold')\n",
    "plt.title(\"Goal B Subportfolio Allocation\", fontsize=16, fontweight='bold')\n",
    "plt.legend(title=\"Asset\", fontsize=12, title_fontsize=14)\n",
    "plt.grid(alpha=0.3)\n",
    "plt.show()"
   ]
  },
  {
   "cell_type": "code",
   "execution_count": null,
   "id": "e66a7f19",
   "metadata": {},
   "outputs": [],
   "source": [
    "# Asset names from the first column of the capital market expectations\n",
    "asset_names = capital_market_expectations_raw.iloc[:, 0].astype(str).tolist()\n",
    "\n",
    "# Use stackplot to display the Goal A subportfolio allocation (stacked areas) versus goal allocation (in %)\n",
    "plt.figure(figsize=(10, 6))\n",
    "plt.stackplot(goal_allocation * 100, optimal_weights_C.T, labels=asset_names, alpha=0.7)\n",
    "plt.xlabel(\"Goal Allocation (%)\", fontsize=14, fontweight='bold')\n",
    "plt.ylabel(\"Investment Weight\", fontsize=14, fontweight='bold')\n",
    "plt.title(\"Goal C Subportfolio Allocation\", fontsize=16, fontweight='bold')\n",
    "plt.legend(title=\"Asset\", fontsize=12, title_fontsize=14)\n",
    "plt.grid(alpha=0.3)\n",
    "plt.show()"
   ]
  },
  {
   "cell_type": "code",
   "execution_count": null,
   "id": "84fc9953",
   "metadata": {},
   "outputs": [],
   "source": [
    "# Asset names from the first column of the capital market expectations\n",
    "asset_names = capital_market_expectations_raw.iloc[:, 0].astype(str).tolist()\n",
    "\n",
    "# Use stackplot to display the Goal A subportfolio allocation (stacked areas) versus goal allocation (in %)\n",
    "plt.figure(figsize=(10, 6))\n",
    "plt.stackplot(goal_allocation * 100, optimal_weights_D.T, labels=asset_names, alpha=0.7)\n",
    "plt.xlabel(\"Goal Allocation (%)\", fontsize=14, fontweight='bold')\n",
    "plt.ylabel(\"Investment Weight\", fontsize=14, fontweight='bold')\n",
    "plt.title(\"Goal D Subportfolio Allocation\", fontsize=16, fontweight='bold')\n",
    "plt.legend(title=\"Asset\", fontsize=12, title_fontsize=14)\n",
    "plt.grid(alpha=0.3)\n",
    "plt.show()"
   ]
  },
  {
   "cell_type": "markdown",
   "id": "91359a6b",
   "metadata": {},
   "source": [
    "# Print Results"
   ]
  },
  {
   "cell_type": "code",
   "execution_count": null,
   "id": "0bc7b86f",
   "metadata": {},
   "outputs": [],
   "source": [
    "print(\"Optimal Across-Goal Allocation:\")\n",
    "print(optimal_goal_weights)\n",
    "\n",
    "print(\"\\nOptimal Aggregate Investment Allocation:\")\n",
    "print(optimal_aggregate_portfolio)"
   ]
  },
  {
   "cell_type": "code",
   "execution_count": null,
   "id": "30b4d244",
   "metadata": {},
   "outputs": [],
   "source": [
    "# Create a DataFrame for the across-goal allocation.\n",
    "df_across_goal = pd.DataFrame({\n",
    "    \"Goal\": goals,\n",
    "    \"Allocation (%)\": optimal_goal_weights\n",
    "})\n",
    "\n",
    "# Create a DataFrame for the aggregate portfolio.\n",
    "# Multiply the weight by 100 to display percentages.\n",
    "df_aggregate = pd.DataFrame({\n",
    "    \"Asset\": asset_names,\n",
    "    \"Weight\": optimal_aggregate_portfolio,\n",
    "    \"Allocation (%)\": np.round(optimal_aggregate_portfolio * 100, 2)\n",
    "})\n",
    "\n",
    "print(\"Optimal Across-Goal Allocation:\")\n",
    "print(df_across_goal.to_string(index=False))\n",
    "\n",
    "print(\"\\nOptimal Aggregate Investment Allocation:\")\n",
    "print(df_aggregate.to_string(index=False))\n",
    "\n"
   ]
  },
  {
   "cell_type": "markdown",
   "id": "6078c060",
   "metadata": {},
   "source": [
    "# (Continuing from the end of your \"no mean var\" script...)\n",
    "# Step 4: Mean-Variance Frontier Construction\n",
    "\n",
    "import matplotlib.pyplot as plt\n",
    "\n",
    "We'll vary gamma from 60 down to 1, just like the R code.\n",
    "g_list = np.arange(60, 0, -1, dtype=float)\n",
    "\n",
    "m_list = []  # Store resultant portfolio returns\n",
    "s_list = []  # Store resultant portfolio standard deviations\n",
    "optimal_weights_mv_list = []  # Store the optimal weights for each gamma\n",
    "\n",
    "Re-initialize random starting weights for building the frontier\n",
    "starting_weights_mv = np.random.uniform(0, 1, num_assets)\n",
    "starting_weights_mv /= np.sum(starting_weights_mv)\n",
    "\n",
    "Build the mean-variance frontier\n",
    "for gamma_temp in g_list:\n",
    "\n",
    "    # Define local objective so we can vary gamma\n",
    "    def mvu_f_local(weights):\n",
    "        return -(mean_f(weights, return_vector) - 0.5 * gamma_temp * sd_f(weights, covariances)**2)\n",
    "\n",
    "    # Perform SLSQP to minimize the negative MV objective\n",
    "    mv_result = minimize(\n",
    "        mvu_f_local,\n",
    "        starting_weights_mv,\n",
    "        constraints=[{'type': 'eq', 'fun': constraint_function}],\n",
    "        bounds=[(0, 1)] * num_assets,\n",
    "        method='SLSQP',\n",
    "        options=slsqp_opts\n",
    "    )\n",
    "\n",
    "    if mv_result.success:\n",
    "        w_opt = mv_result.x\n",
    "    else:\n",
    "        # fallback: just store the last best known\n",
    "        w_opt = starting_weights_mv\n",
    "\n",
    "    optimal_weights_mv_list.append(w_opt)\n",
    "    m_list.append(mean_f(w_opt, return_vector))\n",
    "    s_list.append(sd_f(w_opt, covariances))\n",
    "\n",
    "Convert to arrays for plotting\n",
    "m_list = np.array(m_list)\n",
    "s_list = np.array(s_list)\n",
    "optimal_weights_mv_array = np.array(optimal_weights_mv_list)\n",
    "\n",
    "Plot the mean-variance efficient frontier\n",
    "plt.figure(figsize=(7, 5))\n",
    "plt.plot(s_list, m_list, color=\"dodgerblue\", linewidth=2)\n",
    "plt.xlabel(\"Volatility\", fontsize=14)\n",
    "plt.ylabel(\"Return\", fontsize=14)\n",
    "plt.title(\"Mean-Variance Efficient Frontier\", fontsize=16, fontweight='bold')\n",
    "plt.grid(alpha=0.3)\n",
    "plt.show()"
   ]
  },
  {
   "cell_type": "markdown",
   "id": "48bc82d3",
   "metadata": {},
   "source": [
    "### Identify 'last point' on the frontier (gamma = 0.01) and store it\n",
    "\n",
    "gamma_small = 0.01\n",
    "\n",
    "def mvu_f_small_gamma(weights):\n",
    "    return -(mean_f(weights, return_vector) - 0.5 * gamma_small * sd_f(weights, covariances)**2)\n",
    "\n",
    "last_res = minimize(\n",
    "    mvu_f_small_gamma,\n",
    "    starting_weights_mv,\n",
    "    constraints=[{'type': 'eq', 'fun': constraint_function}],\n",
    "    bounds=[(0, 1)] * num_assets,\n",
    "    method='SLSQP',\n",
    "    options=slsqp_opts\n",
    ")\n",
    "\n",
    "last_weights = last_res.x if last_res.success else starting_weights_mv\n",
    "last_m = mean_f(last_weights, return_vector)"
   ]
  },
  {
   "cell_type": "markdown",
   "id": "e5cbc65c",
   "metadata": {},
   "source": [
    "### Step 5: Compute Probability of Success for Each Goal Using Mean-Variance \"Fallback\"\n",
    "\n",
    "In R, we built these arrays:\n",
    "mv_phi_A, mv_phi_B, mv_phi_C, mv_phi_D\n",
    "and we stored the 'fallback' subportfolio weights in\n",
    "optimal_mv_weights_A, ..._B, ..._C, ..._D.\n",
    "\n",
    "mv_phi_A = np.zeros(len(goal_allocation))\n",
    "mv_phi_B = np.zeros(len(goal_allocation))\n",
    "mv_phi_C = np.zeros(len(goal_allocation))\n",
    "mv_phi_D = np.zeros(len(goal_allocation))\n",
    "\n",
    "We'll also store the chosen portfolio weights for each goal-allocation pair\n",
    "optimal_mv_weights_A = np.zeros((len(goal_allocation), num_assets))\n",
    "optimal_mv_weights_B = np.zeros((len(goal_allocation), num_assets))\n",
    "optimal_mv_weights_C = np.zeros((len(goal_allocation), num_assets))\n",
    "optimal_mv_weights_D = np.zeros((len(goal_allocation), num_assets))\n",
    "\n",
    "for i, alloc in enumerate(goal_allocation):\n",
    "\n",
    "    # --- Goal A ---\n",
    "    req_return_A = r_req_f(goal_A, alloc, pool)\n",
    "    if req_return_A > last_m:\n",
    "        # Use 'last_weights' from the frontier\n",
    "        optimal_mv_weights_A[i, :] = last_weights\n",
    "        mv_phi_A[i] = phi_f(\n",
    "            goal_A, alloc, pool,\n",
    "            mean_f(last_weights, return_vector),\n",
    "            sd_f(last_weights, covariances)\n",
    "        )\n",
    "    else:\n",
    "        # Use the goals-based weights from the no-mean-var solution\n",
    "        optimal_mv_weights_A[i, :] = optimal_weights_A[i, :]\n",
    "        mv_phi_A[i] = phi_f(\n",
    "            goal_A, alloc, pool,\n",
    "            mean_f(optimal_weights_A[i, :], return_vector),\n",
    "            sd_f(optimal_weights_A[i, :], covariances)\n",
    "        )\n",
    "\n",
    "    # --- Goal B ---\n",
    "    req_return_B = r_req_f(goal_B, alloc, pool)\n",
    "    if req_return_B > last_m:\n",
    "        optimal_mv_weights_B[i, :] = last_weights\n",
    "        mv_phi_B[i] = phi_f(\n",
    "            goal_B, alloc, pool,\n",
    "            mean_f(last_weights, return_vector),\n",
    "            sd_f(last_weights, covariances)\n",
    "        )\n",
    "    else:\n",
    "        optimal_mv_weights_B[i, :] = optimal_weights_B[i, :]\n",
    "        mv_phi_B[i] = phi_f(\n",
    "            goal_B, alloc, pool,\n",
    "            mean_f(optimal_weights_B[i, :], return_vector),\n",
    "            sd_f(optimal_weights_B[i, :], covariances)\n",
    "        )\n",
    "\n",
    "    # --- Goal C ---\n",
    "    req_return_C = r_req_f(goal_C, alloc, pool)\n",
    "    if req_return_C > last_m:\n",
    "        optimal_mv_weights_C[i, :] = last_weights\n",
    "        mv_phi_C[i] = phi_f(\n",
    "            goal_C, alloc, pool,\n",
    "            mean_f(last_weights, return_vector),\n",
    "            sd_f(last_weights, covariances)\n",
    "        )\n",
    "    else:\n",
    "        optimal_mv_weights_C[i, :] = optimal_weights_C[i, :]\n",
    "        mv_phi_C[i] = phi_f(\n",
    "            goal_C, alloc, pool,\n",
    "            mean_f(optimal_weights_C[i, :], return_vector),\n",
    "            sd_f(optimal_weights_C[i, :], covariances)\n",
    "        )\n",
    "\n",
    "    # --- Goal D ---\n",
    "    req_return_D = r_req_f(goal_D, alloc, pool)\n",
    "    if req_return_D > last_m:\n",
    "        optimal_mv_weights_D[i, :] = last_weights\n",
    "        mv_phi_D[i] = phi_f(\n",
    "            goal_D, alloc, pool,\n",
    "            mean_f(last_weights, return_vector),\n",
    "            sd_f(last_weights, covariances)\n",
    "        )\n",
    "    else:\n",
    "        optimal_mv_weights_D[i, :] = optimal_weights_D[i, :]\n",
    "        mv_phi_D[i] = phi_f(\n",
    "            goal_D, alloc, pool,\n",
    "            mean_f(optimal_weights_D[i, :], return_vector),\n",
    "            sd_f(optimal_weights_D[i, :], covariances)\n",
    "        )"
   ]
  },
  {
   "cell_type": "markdown",
   "id": "0b54c164",
   "metadata": {},
   "source": [
    "### Step 6: Across-Goal Allocation (Mean-Variance Version)\n",
    "We reuse the same `sim_goal_weights` from before but compute a new utility: `utility_mv`.\n",
    "\n",
    "utility_mv = (\n",
    "    goal_A[0] * mv_phi_A[sim_goal_weights[:, 0] - 1] +\n",
    "    goal_A[0] * goal_B[0] * mv_phi_B[sim_goal_weights[:, 1] - 1] +\n",
    "    goal_A[0] * goal_B[0] * goal_C[0] * mv_phi_C[sim_goal_weights[:, 2] - 1] +\n",
    "    goal_A[0] * goal_B[0] * goal_C[0] * goal_D[0] * mv_phi_D[sim_goal_weights[:, 3] - 1]\n",
    ")\n",
    "\n",
    "index_mv = np.argmax(utility_mv)\n",
    "optimal_goal_weights_mv = sim_goal_weights[index_mv, :]\n",
    "\n",
    "print(\"Optimal Across-Goal Allocation (Mean-Variance Version):\")\n",
    "print(optimal_goal_weights_mv)"
   ]
  },
  {
   "cell_type": "markdown",
   "id": "7511bbf4",
   "metadata": {},
   "source": [
    "### Step 7: Visualize the Results for the Mean-Variance Subportfolios\n",
    "For instance, let's plot Goal A's subportfolio weights under the mean-variance approach.\n",
    "\n",
    "plt.figure(figsize=(10, 6))\n",
    "plt.stackplot(\n",
    "    goal_allocation * 100,\n",
    "    optimal_mv_weights_A.T,\n",
    "    labels=asset_names,\n",
    "    alpha=0.7\n",
    ")\n",
    "plt.xlabel(\"Goal Allocation (%)\", fontsize=14, fontweight='bold')\n",
    "plt.ylabel(\"Investment Weight\", fontsize=14, fontweight='bold')\n",
    "plt.title(\"Goal A Subportfolio Allocation (Mean-Variance Logic)\", fontsize=16, fontweight='bold')\n",
    "plt.legend(title=\"Asset\", fontsize=12, title_fontsize=14)\n",
    "plt.grid(alpha=0.3)\n",
    "plt.show()"
   ]
  },
  {
   "cell_type": "markdown",
   "id": "a56eb33b",
   "metadata": {},
   "source": [
    "### Step 8: Compare Probability of Achievement (No-Mean-Var vs. Mean-Var) for Goal A\n",
    "We'll make a simple line plot of `phi_A` and `mv_phi_A` across the range of allocations.\n",
    "\n",
    "plt.figure(figsize=(8, 5))\n",
    "plt.plot(goal_allocation * 100, phi_A, label=\"Goals-Based Only\", linewidth=2)\n",
    "plt.plot(goal_allocation * 100, mv_phi_A, label=\"Mean-Var Logic\", linewidth=2)\n",
    "plt.xlabel(\"Goal Allocation (%)\", fontsize=14)\n",
    "plt.ylabel(\"Probability of Achievement\", fontsize=14)\n",
    "plt.title(\"Goal A: Probability of Achievement Comparison\", fontsize=15, fontweight='bold')\n",
    "plt.legend(fontsize=12)\n",
    "plt.grid(alpha=0.3)\n",
    "plt.show()"
   ]
  }
 ],
 "metadata": {
  "jupytext": {
   "cell_metadata_filter": "-all",
   "main_language": "python",
   "notebook_metadata_filter": "-all"
  }
 },
 "nbformat": 4,
 "nbformat_minor": 5
}
